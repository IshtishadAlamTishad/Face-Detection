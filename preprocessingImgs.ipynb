{
 "cells": [
  {
   "cell_type": "code",
   "execution_count": 1,
   "metadata": {},
   "outputs": [
    {
     "name": "stdout",
     "output_type": "stream",
     "text": [
      "Preprocessing complete. Preprocessed images are saved in: T:/CodeBase/Python/Computer Vision/MID/Project/FaceDetection/PreprocessedImg\n"
     ]
    }
   ],
   "source": [
    "import cv2\n",
    "import os\n",
    "\n",
    "dataset_path = \"T:/CodeBase/t\"  \n",
    "output_path = \"T:/CodeBase\"  \n",
    "image_size = (64,64)  \n",
    "\n",
    "haar_cascade = cv2.CascadeClassifier(cv2.data.haarcascades + \"haarcascade_frontalface_default.xml\")\n",
    "\n",
    "os.makedirs(output_path, exist_ok=True)\n",
    "\n",
    "def preprocess_images(dataset_path, output_path, haar_cascade, image_size):\n",
    "    \"\"\"\n",
    "    Preprocess images by detecting faces, converting to grayscale, resizing, and saving.\n",
    "    \"\"\"\n",
    "    for class_folder in os.listdir(dataset_path):\n",
    "        class_path = os.path.join(dataset_path, class_folder)\n",
    "        if not os.path.isdir(class_path):\n",
    "            continue  \n",
    "\n",
    "        class_output_path = os.path.join(output_path, class_folder)\n",
    "        os.makedirs(class_output_path, exist_ok=True)\n",
    "\n",
    "        for img_name in os.listdir(class_path):\n",
    "            img_path = os.path.join(class_path, img_name)\n",
    "            try:\n",
    "\n",
    "                image = cv2.imread(img_path)\n",
    "                if image is None:\n",
    "                    print(f\"Failed to read image: {img_path}\")\n",
    "                    continue\n",
    "\n",
    "                gray_image = cv2.cvtColor(image, cv2.COLOR_BGR2GRAY)\n",
    "\n",
    "                faces = haar_cascade.detectMultiScale(\n",
    "                    gray_image, scaleFactor=1.1, minNeighbors=5, minSize=(30, 30)\n",
    "                )\n",
    "\n",
    "                if len(faces) > 0:\n",
    "                    x, y, w, h = faces[0]\n",
    "                    cropped_face = gray_image[y:y+h, x:x+w]\n",
    "                    resized_face = cv2.resize(cropped_face, image_size)\n",
    "                    save_path = os.path.join(class_output_path, img_name)\n",
    "                    cv2.imwrite(save_path, resized_face)\n",
    "\n",
    "            except Exception as e:\n",
    "                print(f\"Error processing {img_path}: {e}\")\n",
    "\n",
    "preprocess_images(dataset_path, output_path, haar_cascade, image_size)\n",
    "\n",
    "print(f\"Preprocessing complete. Preprocessed images are saved in: {output_path}\")\n"
   ]
  }
 ],
 "metadata": {
  "kernelspec": {
   "display_name": "TF",
   "language": "python",
   "name": "python3"
  },
  "language_info": {
   "codemirror_mode": {
    "name": "ipython",
    "version": 3
   },
   "file_extension": ".py",
   "mimetype": "text/x-python",
   "name": "python",
   "nbconvert_exporter": "python",
   "pygments_lexer": "ipython3",
   "version": "3.9.18"
  }
 },
 "nbformat": 4,
 "nbformat_minor": 2
}
